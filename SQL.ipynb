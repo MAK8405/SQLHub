{
 "cells": [
  {
   "cell_type": "markdown",
   "id": "44bf705d",
   "metadata": {},
   "source": [
    "# SQL"
   ]
  },
  {
   "cell_type": "code",
   "execution_count": 14,
   "id": "fda53f68",
   "metadata": {},
   "outputs": [
    {
     "name": "stdout",
     "output_type": "stream",
     "text": [
      "The sql extension is already loaded. To reload it, use:\n",
      "  %reload_ext sql\n"
     ]
    }
   ],
   "source": [
    "%load_ext sql\n",
    "%sql sqlite:///northwind.db"
   ]
  },
  {
   "cell_type": "markdown",
   "id": "68ae4d35",
   "metadata": {},
   "source": [
    "## SQL Tutorial"
   ]
  },
  {
   "cell_type": "markdown",
   "id": "96c0c97e",
   "metadata": {},
   "source": [
    "### SQL Intro"
   ]
  },
  {
   "cell_type": "code",
   "execution_count": 15,
   "id": "a877f63e",
   "metadata": {},
   "outputs": [
    {
     "name": "stdout",
     "output_type": "stream",
     "text": [
      " * sqlite:///northwind.db\n",
      "Done.\n"
     ]
    },
    {
     "data": {
      "text/html": [
       "<table>\n",
       "    <thead>\n",
       "        <tr>\n",
       "            <th>CustomerID</th>\n",
       "            <th>CustomerID_old</th>\n",
       "            <th>CustomerName</th>\n",
       "            <th>ContactName</th>\n",
       "            <th>ContactTitle</th>\n",
       "            <th>Address</th>\n",
       "            <th>City</th>\n",
       "            <th>Region</th>\n",
       "            <th>PostalCode</th>\n",
       "            <th>Country</th>\n",
       "            <th>Phone</th>\n",
       "            <th>Fax</th>\n",
       "        </tr>\n",
       "    </thead>\n",
       "    <tbody>\n",
       "        <tr>\n",
       "            <td>1</td>\n",
       "            <td>ALFKI</td>\n",
       "            <td>Alfreds Futterkiste</td>\n",
       "            <td>Maria Anders</td>\n",
       "            <td>Sales Representative</td>\n",
       "            <td>Obere Str. 57</td>\n",
       "            <td>Berlin</td>\n",
       "            <td>Western Europe</td>\n",
       "            <td>12209</td>\n",
       "            <td>Germany</td>\n",
       "            <td>030-0074321</td>\n",
       "            <td>030-0076545</td>\n",
       "        </tr>\n",
       "        <tr>\n",
       "            <td>2</td>\n",
       "            <td>ANATR</td>\n",
       "            <td>Ana Trujillo Emparedados y helados</td>\n",
       "            <td>Ana Trujillo</td>\n",
       "            <td>Owner</td>\n",
       "            <td>Avda. de la Constitución 2222</td>\n",
       "            <td>México D.F.</td>\n",
       "            <td>Central America</td>\n",
       "            <td>05021</td>\n",
       "            <td>Mexico</td>\n",
       "            <td>(5) 555-4729</td>\n",
       "            <td>(5) 555-3745</td>\n",
       "        </tr>\n",
       "        <tr>\n",
       "            <td>3</td>\n",
       "            <td>ANTON</td>\n",
       "            <td>Antonio Moreno Taquería</td>\n",
       "            <td>Antonio Moreno</td>\n",
       "            <td>Owner</td>\n",
       "            <td>Mataderos  2312</td>\n",
       "            <td>México D.F.</td>\n",
       "            <td>Central America</td>\n",
       "            <td>05023</td>\n",
       "            <td>Mexico</td>\n",
       "            <td>(5) 555-3932</td>\n",
       "            <td>None</td>\n",
       "        </tr>\n",
       "        <tr>\n",
       "            <td>4</td>\n",
       "            <td>AROUT</td>\n",
       "            <td>Around the Horn</td>\n",
       "            <td>Thomas Hardy</td>\n",
       "            <td>Sales Representative</td>\n",
       "            <td>120 Hanover Sq.</td>\n",
       "            <td>London</td>\n",
       "            <td>British Isles</td>\n",
       "            <td>WA1 1DP</td>\n",
       "            <td>UK</td>\n",
       "            <td>(171) 555-7788</td>\n",
       "            <td>(171) 555-6750</td>\n",
       "        </tr>\n",
       "        <tr>\n",
       "            <td>5</td>\n",
       "            <td>BERGS</td>\n",
       "            <td>Berglunds snabbköp</td>\n",
       "            <td>Christina Berglund</td>\n",
       "            <td>Order Administrator</td>\n",
       "            <td>Berguvsvägen  8</td>\n",
       "            <td>Luleå</td>\n",
       "            <td>Northern Europe</td>\n",
       "            <td>S-958 22</td>\n",
       "            <td>Sweden</td>\n",
       "            <td>0921-12 34 65</td>\n",
       "            <td>0921-12 34 67</td>\n",
       "        </tr>\n",
       "    </tbody>\n",
       "</table>"
      ],
      "text/plain": [
       "[(1, 'ALFKI', 'Alfreds Futterkiste', 'Maria Anders', 'Sales Representative', 'Obere Str. 57', 'Berlin', 'Western Europe', '12209', 'Germany', '030-0074321', '030-0076545'),\n",
       " (2, 'ANATR', 'Ana Trujillo Emparedados y helados', 'Ana Trujillo', 'Owner', 'Avda. de la Constitución 2222', 'México D.F.', 'Central America', '05021', 'Mexico', '(5) 555-4729', '(5) 555-3745'),\n",
       " (3, 'ANTON', 'Antonio Moreno Taquería', 'Antonio Moreno', 'Owner', 'Mataderos  2312', 'México D.F.', 'Central America', '05023', 'Mexico', '(5) 555-3932', None),\n",
       " (4, 'AROUT', 'Around the Horn', 'Thomas Hardy', 'Sales Representative', '120 Hanover Sq.', 'London', 'British Isles', 'WA1 1DP', 'UK', '(171) 555-7788', '(171) 555-6750'),\n",
       " (5, 'BERGS', 'Berglunds snabbköp', 'Christina Berglund', 'Order Administrator', 'Berguvsvägen  8', 'Luleå', 'Northern Europe', 'S-958 22', 'Sweden', '0921-12 34 65', '0921-12 34 67')]"
      ]
     },
     "execution_count": 15,
     "metadata": {},
     "output_type": "execute_result"
    }
   ],
   "source": [
    "%%sql\n",
    "SELECT * FROM Customers LIMIT 5;"
   ]
  },
  {
   "cell_type": "markdown",
   "id": "f270cc21",
   "metadata": {},
   "source": [
    "### SQL Select"
   ]
  },
  {
   "cell_type": "code",
   "execution_count": 16,
   "id": "7d35ac06",
   "metadata": {},
   "outputs": [
    {
     "name": "stdout",
     "output_type": "stream",
     "text": [
      " * sqlite:///northwind.db\n",
      "Done.\n"
     ]
    },
    {
     "data": {
      "text/html": [
       "<table>\n",
       "    <thead>\n",
       "        <tr>\n",
       "            <th>CustomerName</th>\n",
       "            <th>City</th>\n",
       "        </tr>\n",
       "    </thead>\n",
       "    <tbody>\n",
       "        <tr>\n",
       "            <td>Alfreds Futterkiste</td>\n",
       "            <td>Berlin</td>\n",
       "        </tr>\n",
       "        <tr>\n",
       "            <td>Ana Trujillo Emparedados y helados</td>\n",
       "            <td>México D.F.</td>\n",
       "        </tr>\n",
       "        <tr>\n",
       "            <td>Antonio Moreno Taquería</td>\n",
       "            <td>México D.F.</td>\n",
       "        </tr>\n",
       "        <tr>\n",
       "            <td>Around the Horn</td>\n",
       "            <td>London</td>\n",
       "        </tr>\n",
       "        <tr>\n",
       "            <td>Berglunds snabbköp</td>\n",
       "            <td>Luleå</td>\n",
       "        </tr>\n",
       "    </tbody>\n",
       "</table>"
      ],
      "text/plain": [
       "[('Alfreds Futterkiste', 'Berlin'),\n",
       " ('Ana Trujillo Emparedados y helados', 'México D.F.'),\n",
       " ('Antonio Moreno Taquería', 'México D.F.'),\n",
       " ('Around the Horn', 'London'),\n",
       " ('Berglunds snabbköp', 'Luleå')]"
      ]
     },
     "execution_count": 16,
     "metadata": {},
     "output_type": "execute_result"
    }
   ],
   "source": [
    "%%sql\n",
    "SELECT CustomerName, City FROM Customers LIMIT 5;"
   ]
  },
  {
   "cell_type": "code",
   "execution_count": 17,
   "id": "e1bc4a13",
   "metadata": {},
   "outputs": [
    {
     "name": "stdout",
     "output_type": "stream",
     "text": [
      " * sqlite:///northwind.db\n",
      "Done.\n"
     ]
    },
    {
     "data": {
      "text/html": [
       "<table>\n",
       "    <thead>\n",
       "        <tr>\n",
       "            <th>CustomerID</th>\n",
       "            <th>CustomerID_old</th>\n",
       "            <th>CustomerName</th>\n",
       "            <th>ContactName</th>\n",
       "            <th>ContactTitle</th>\n",
       "            <th>Address</th>\n",
       "            <th>City</th>\n",
       "            <th>Region</th>\n",
       "            <th>PostalCode</th>\n",
       "            <th>Country</th>\n",
       "            <th>Phone</th>\n",
       "            <th>Fax</th>\n",
       "        </tr>\n",
       "    </thead>\n",
       "    <tbody>\n",
       "        <tr>\n",
       "            <td>1</td>\n",
       "            <td>ALFKI</td>\n",
       "            <td>Alfreds Futterkiste</td>\n",
       "            <td>Maria Anders</td>\n",
       "            <td>Sales Representative</td>\n",
       "            <td>Obere Str. 57</td>\n",
       "            <td>Berlin</td>\n",
       "            <td>Western Europe</td>\n",
       "            <td>12209</td>\n",
       "            <td>Germany</td>\n",
       "            <td>030-0074321</td>\n",
       "            <td>030-0076545</td>\n",
       "        </tr>\n",
       "        <tr>\n",
       "            <td>2</td>\n",
       "            <td>ANATR</td>\n",
       "            <td>Ana Trujillo Emparedados y helados</td>\n",
       "            <td>Ana Trujillo</td>\n",
       "            <td>Owner</td>\n",
       "            <td>Avda. de la Constitución 2222</td>\n",
       "            <td>México D.F.</td>\n",
       "            <td>Central America</td>\n",
       "            <td>05021</td>\n",
       "            <td>Mexico</td>\n",
       "            <td>(5) 555-4729</td>\n",
       "            <td>(5) 555-3745</td>\n",
       "        </tr>\n",
       "        <tr>\n",
       "            <td>3</td>\n",
       "            <td>ANTON</td>\n",
       "            <td>Antonio Moreno Taquería</td>\n",
       "            <td>Antonio Moreno</td>\n",
       "            <td>Owner</td>\n",
       "            <td>Mataderos  2312</td>\n",
       "            <td>México D.F.</td>\n",
       "            <td>Central America</td>\n",
       "            <td>05023</td>\n",
       "            <td>Mexico</td>\n",
       "            <td>(5) 555-3932</td>\n",
       "            <td>None</td>\n",
       "        </tr>\n",
       "        <tr>\n",
       "            <td>4</td>\n",
       "            <td>AROUT</td>\n",
       "            <td>Around the Horn</td>\n",
       "            <td>Thomas Hardy</td>\n",
       "            <td>Sales Representative</td>\n",
       "            <td>120 Hanover Sq.</td>\n",
       "            <td>London</td>\n",
       "            <td>British Isles</td>\n",
       "            <td>WA1 1DP</td>\n",
       "            <td>UK</td>\n",
       "            <td>(171) 555-7788</td>\n",
       "            <td>(171) 555-6750</td>\n",
       "        </tr>\n",
       "        <tr>\n",
       "            <td>5</td>\n",
       "            <td>BERGS</td>\n",
       "            <td>Berglunds snabbköp</td>\n",
       "            <td>Christina Berglund</td>\n",
       "            <td>Order Administrator</td>\n",
       "            <td>Berguvsvägen  8</td>\n",
       "            <td>Luleå</td>\n",
       "            <td>Northern Europe</td>\n",
       "            <td>S-958 22</td>\n",
       "            <td>Sweden</td>\n",
       "            <td>0921-12 34 65</td>\n",
       "            <td>0921-12 34 67</td>\n",
       "        </tr>\n",
       "    </tbody>\n",
       "</table>"
      ],
      "text/plain": [
       "[(1, 'ALFKI', 'Alfreds Futterkiste', 'Maria Anders', 'Sales Representative', 'Obere Str. 57', 'Berlin', 'Western Europe', '12209', 'Germany', '030-0074321', '030-0076545'),\n",
       " (2, 'ANATR', 'Ana Trujillo Emparedados y helados', 'Ana Trujillo', 'Owner', 'Avda. de la Constitución 2222', 'México D.F.', 'Central America', '05021', 'Mexico', '(5) 555-4729', '(5) 555-3745'),\n",
       " (3, 'ANTON', 'Antonio Moreno Taquería', 'Antonio Moreno', 'Owner', 'Mataderos  2312', 'México D.F.', 'Central America', '05023', 'Mexico', '(5) 555-3932', None),\n",
       " (4, 'AROUT', 'Around the Horn', 'Thomas Hardy', 'Sales Representative', '120 Hanover Sq.', 'London', 'British Isles', 'WA1 1DP', 'UK', '(171) 555-7788', '(171) 555-6750'),\n",
       " (5, 'BERGS', 'Berglunds snabbköp', 'Christina Berglund', 'Order Administrator', 'Berguvsvägen  8', 'Luleå', 'Northern Europe', 'S-958 22', 'Sweden', '0921-12 34 65', '0921-12 34 67')]"
      ]
     },
     "execution_count": 17,
     "metadata": {},
     "output_type": "execute_result"
    }
   ],
   "source": [
    "%%sql\n",
    "SELECT * FROM Customers LIMIT 5;"
   ]
  }
 ],
 "metadata": {
  "kernelspec": {
   "display_name": "Python 3",
   "language": "python",
   "name": "python3"
  },
  "language_info": {
   "codemirror_mode": {
    "name": "ipython",
    "version": 3
   },
   "file_extension": ".py",
   "mimetype": "text/x-python",
   "name": "python",
   "nbconvert_exporter": "python",
   "pygments_lexer": "ipython3",
   "version": "3.13.3"
  }
 },
 "nbformat": 4,
 "nbformat_minor": 5
}
